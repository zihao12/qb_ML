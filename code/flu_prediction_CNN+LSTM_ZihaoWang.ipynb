{
 "cells": [
  {
   "cell_type": "code",
   "execution_count": 1,
   "metadata": {},
   "outputs": [
    {
     "name": "stderr",
     "output_type": "stream",
     "text": [
      "Using TensorFlow backend.\n"
     ]
    }
   ],
   "source": [
    "from keras.models import Sequential,Input,Model\n",
    "from keras.layers import Dense\n",
    "from keras.layers import Input\n",
    "from keras.layers import Dropout\n",
    "from keras.layers import Flatten\n",
    "from keras.layers import LSTM\n",
    "\n",
    "from keras.layers.convolutional import ZeroPadding1D\n",
    "from keras.layers.convolutional import Conv1D\n",
    "from keras.layers.pooling import AveragePooling1D\n",
    "from keras.optimizers import SGD\n",
    "from keras.models import Model\n",
    "from keras.models import load_model\n",
    "from keras.callbacks import ModelCheckpoint\n",
    "\n",
    "from pandas import DataFrame\n",
    "from pandas import Series\n",
    "from pandas import concat\n",
    "from pandas import read_csv\n",
    "from pandas import datetime\n",
    "from sklearn.metrics import mean_squared_error\n",
    "from sklearn.preprocessing import MinMaxScaler\n",
    "\n",
    "from math import sqrt\n",
    "from matplotlib import pyplot\n",
    "from numpy import array\n",
    "from numpy import concatenate\n",
    "import numpy as np\n",
    "import pandas as pd"
   ]
  },
  {
   "cell_type": "code",
   "execution_count": 2,
   "metadata": {},
   "outputs": [],
   "source": [
    "# convert series to supervised learning\n",
    "def series_to_supervised(data, n_in=1, n_out=1, dropnan=True):\n",
    "    \n",
    "# \tFrame a time series as a supervised learning dataset.\n",
    "# \tArguments:\n",
    "# \t\tdata: Sequence of observations as a list or NumPy array.\n",
    "# \t\tn_in: Number of lag observations as input (X).\n",
    "# \t\tn_out: Number of observations as output (y).\n",
    "# \t\tdropnan: Boolean whether or not to drop rows with NaN values.\n",
    "# \tReturns:\n",
    "# \t\tPandas DataFrame of series framed for supervised learning.\n",
    "\t\n",
    "\tn_vars = 1 if type(data) is list else data.shape[1]\n",
    "\tdf = DataFrame(data)\n",
    "\tcols, names = list(), list()\n",
    "\t# input sequence (t-n, ... t-1)\n",
    "\tfor i in range(n_in, 0, -1):\n",
    "\t\tcols.append(df.shift(i))\n",
    "\t\tnames += [('var%d(t-%d)' % (j+1, i)) for j in range(n_vars)]\n",
    "\t# forecast sequence (t, t+1, ... t+n)\n",
    "\tfor i in range(0, n_out):\n",
    "\t\tcols.append(df.shift(-i))\n",
    "\t\tif i == 0:\n",
    "\t\t\tnames += [('var%d(t)' % (j+1)) for j in range(n_vars)]\n",
    "\t\telse:\n",
    "\t\t\tnames += [('var%d(t+%d)' % (j+1, i)) for j in range(n_vars)]\n",
    "\t# put it all together\n",
    "\tagg = concat(cols, axis=1)\n",
    "\tagg.columns = names\n",
    "\t# drop rows with NaN values\n",
    "\tif dropnan:\n",
    "\t\tagg.dropna(inplace=True)\n",
    "\treturn agg"
   ]
  },
  {
   "cell_type": "code",
   "execution_count": 3,
   "metadata": {},
   "outputs": [
    {
     "data": {
      "text/html": [
       "<div>\n",
       "<style scoped>\n",
       "    .dataframe tbody tr th:only-of-type {\n",
       "        vertical-align: middle;\n",
       "    }\n",
       "\n",
       "    .dataframe tbody tr th {\n",
       "        vertical-align: top;\n",
       "    }\n",
       "\n",
       "    .dataframe thead th {\n",
       "        text-align: right;\n",
       "    }\n",
       "</style>\n",
       "<table border=\"1\" class=\"dataframe\">\n",
       "  <thead>\n",
       "    <tr style=\"text-align: right;\">\n",
       "      <th></th>\n",
       "      <th>month1</th>\n",
       "      <th>month2</th>\n",
       "      <th>month3</th>\n",
       "      <th>month4</th>\n",
       "      <th>month5</th>\n",
       "      <th>month6</th>\n",
       "      <th>H1N</th>\n",
       "      <th>y1</th>\n",
       "      <th>y2</th>\n",
       "      <th>y3</th>\n",
       "      <th>y4</th>\n",
       "      <th>y5</th>\n",
       "      <th>H3N</th>\n",
       "    </tr>\n",
       "    <tr>\n",
       "      <th>month</th>\n",
       "      <th></th>\n",
       "      <th></th>\n",
       "      <th></th>\n",
       "      <th></th>\n",
       "      <th></th>\n",
       "      <th></th>\n",
       "      <th></th>\n",
       "      <th></th>\n",
       "      <th></th>\n",
       "      <th></th>\n",
       "      <th></th>\n",
       "      <th></th>\n",
       "      <th></th>\n",
       "    </tr>\n",
       "  </thead>\n",
       "  <tbody>\n",
       "    <tr>\n",
       "      <th>2003.000000</th>\n",
       "      <td>0.666667</td>\n",
       "      <td>0.166667</td>\n",
       "      <td>0.000000</td>\n",
       "      <td>0.000000e+00</td>\n",
       "      <td>0.0</td>\n",
       "      <td>0.166667</td>\n",
       "      <td>922174</td>\n",
       "      <td>1.252386</td>\n",
       "      <td>1.647591</td>\n",
       "      <td>1.054771</td>\n",
       "      <td>1.017501</td>\n",
       "      <td>0.810224</td>\n",
       "      <td>221326</td>\n",
       "    </tr>\n",
       "    <tr>\n",
       "      <th>2003.083333</th>\n",
       "      <td>0.479167</td>\n",
       "      <td>0.479167</td>\n",
       "      <td>0.020833</td>\n",
       "      <td>0.000000e+00</td>\n",
       "      <td>0.0</td>\n",
       "      <td>0.020833</td>\n",
       "      <td>4044901</td>\n",
       "      <td>1.224892</td>\n",
       "      <td>1.624514</td>\n",
       "      <td>1.087051</td>\n",
       "      <td>1.058360</td>\n",
       "      <td>0.844767</td>\n",
       "      <td>1528254</td>\n",
       "    </tr>\n",
       "    <tr>\n",
       "      <th>2003.166667</th>\n",
       "      <td>0.166667</td>\n",
       "      <td>0.666667</td>\n",
       "      <td>0.166667</td>\n",
       "      <td>1.567900e-38</td>\n",
       "      <td>0.0</td>\n",
       "      <td>0.000000</td>\n",
       "      <td>1475084</td>\n",
       "      <td>1.141848</td>\n",
       "      <td>1.493192</td>\n",
       "      <td>1.057678</td>\n",
       "      <td>1.053394</td>\n",
       "      <td>0.846697</td>\n",
       "      <td>590119</td>\n",
       "    </tr>\n",
       "    <tr>\n",
       "      <th>2003.250000</th>\n",
       "      <td>0.020833</td>\n",
       "      <td>0.479167</td>\n",
       "      <td>0.479167</td>\n",
       "      <td>2.083333e-02</td>\n",
       "      <td>0.0</td>\n",
       "      <td>0.000000</td>\n",
       "      <td>242687</td>\n",
       "      <td>1.073057</td>\n",
       "      <td>1.408356</td>\n",
       "      <td>1.024995</td>\n",
       "      <td>1.033565</td>\n",
       "      <td>0.843297</td>\n",
       "      <td>266967</td>\n",
       "    </tr>\n",
       "  </tbody>\n",
       "</table>\n",
       "</div>"
      ],
      "text/plain": [
       "               month1    month2    month3        month4  month5    month6  \\\n",
       "month                                                                       \n",
       "2003.000000  0.666667  0.166667  0.000000  0.000000e+00     0.0  0.166667   \n",
       "2003.083333  0.479167  0.479167  0.020833  0.000000e+00     0.0  0.020833   \n",
       "2003.166667  0.166667  0.666667  0.166667  1.567900e-38     0.0  0.000000   \n",
       "2003.250000  0.020833  0.479167  0.479167  2.083333e-02     0.0  0.000000   \n",
       "\n",
       "                 H1N        y1        y2        y3        y4        y5  \\\n",
       "month                                                                    \n",
       "2003.000000   922174  1.252386  1.647591  1.054771  1.017501  0.810224   \n",
       "2003.083333  4044901  1.224892  1.624514  1.087051  1.058360  0.844767   \n",
       "2003.166667  1475084  1.141848  1.493192  1.057678  1.053394  0.846697   \n",
       "2003.250000   242687  1.073057  1.408356  1.024995  1.033565  0.843297   \n",
       "\n",
       "                 H3N  \n",
       "month                 \n",
       "2003.000000   221326  \n",
       "2003.083333  1528254  \n",
       "2003.166667   590119  \n",
       "2003.250000   266967  "
      ]
     },
     "execution_count": 3,
     "metadata": {},
     "output_type": "execute_result"
    }
   ],
   "source": [
    "inc = read_csv(\"../data/H3N2-USA-inc-month.csv\", header = 0, index_col = 0)\n",
    "cov = read_csv(\"../data/H3N2-USA-cov-month-fitness.csv\", header = 0, index_col = 0)\n",
    "# cov = cov[['pop', 'dpop', 'month1', 'month2', 'month3', 'month4', 'month5',\n",
    "#        'month6', 'H1N', 'y1', 'y2', 'y3', 'y4', 'y5', 'y6', 'y7', 'y8', 'y9',\n",
    "#        'y10', 'y11', 'y12', 'y13']]\n",
    "cov = cov[['month1', 'month2', 'month3', 'month4', 'month5',\n",
    "       'month6', 'H1N', 'y1', 'y2', 'y3', 'y4', 'y5']]\n",
    "dataset = pd.concat([cov,inc], axis = 1)\n",
    "dataset = dataset.iloc[3:,]\n",
    "dataset.head(4)"
   ]
  },
  {
   "cell_type": "markdown",
   "metadata": {},
   "source": [
    "## What are we trying to predict"
   ]
  },
  {
   "cell_type": "code",
   "execution_count": 4,
   "metadata": {},
   "outputs": [
    {
     "data": {
      "text/plain": [
       "[<matplotlib.lines.Line2D at 0x7fd78f693e48>]"
      ]
     },
     "execution_count": 4,
     "metadata": {},
     "output_type": "execute_result"
    },
    {
     "data": {
      "image/png": "[encoded data removed]",
      "text/plain": [
       "<Figure size 432x288 with 1 Axes>"
      ]
     },
     "metadata": {},
     "output_type": "display_data"
    }
   ],
   "source": [
    "pyplot.plot(inc)"
   ]
  },
  {
   "cell_type": "code",
   "execution_count": 5,
   "metadata": {},
   "outputs": [
    {
     "name": "stdout",
     "output_type": "stream",
     "text": [
      "(96, 156, 1) (96, 1) (66, 156, 1) (66, 1)\n"
     ]
    }
   ],
   "source": [
    "num_month = 12\n",
    "n_pred = 1\n",
    "batch_s=12\n",
    "num_epochs=100\n",
    "dropout_rate = 0\n",
    "\n",
    "n_features = len(dataset.columns) - 1\n",
    "\n",
    "values = dataset.values\n",
    "# integer encode direction\n",
    "values = values.astype('float32')\n",
    "# normalize features\n",
    "\n",
    "## use previous \"num_month\" data points (all features)\n",
    "## to predict the next \"n_pred\" incidence data\n",
    "\n",
    "# frame as supervised learning\n",
    "reframed = series_to_supervised(values, num_month, n_pred)\n",
    "#reframed.drop(reframed.columns[23:45], axis=1, inplace=True)\n",
    "#reframed.drop(reframed.columns[(n_features):-n_pred], axis=1, inplace=True)\n",
    "X = reframed[reframed.columns[:num_month*(n_features+1)]]\n",
    "y_col = ['var%d(t)' % (n_features+1)] + [('var%d(t+%d)' % (n_features+1, i)) for i in range(1,n_pred)]\n",
    "y = reframed[y_col]\n",
    "reframed = pd.concat([X,y], axis = 1)\n",
    "# ('var%d(t+%d)' % (j+1, i))\n",
    "\n",
    "scaler = MinMaxScaler(feature_range=(0, 1))\n",
    "scaled = scaler.fit_transform(reframed)\n",
    "# specify the number of lag hours\n",
    "\n",
    "\n",
    "#num_month = 3\n",
    "num_pred = n_pred\n",
    "\n",
    "values = dataset.values\n",
    "# integer encode direction\n",
    "values = values.astype('float32')\n",
    "# normalize features\n",
    "\n",
    "n_month = num_month\n",
    "n_features = len(dataset.columns) - 1\n",
    "n_pred = num_pred\n",
    "# frame as supervised learning\n",
    "reframed = series_to_supervised(values, n_month, n_pred)\n",
    "#reframed.drop(reframed.columns[23:45], axis=1, inplace=True)\n",
    "#reframed.drop(reframed.columns[(n_features):-n_pred], axis=1, inplace=True)\n",
    "X = reframed[reframed.columns[:n_month*(n_features+1)]]\n",
    "y_col = ['var%d(t)' % (n_features+1)] + [('var%d(t+%d)' % (n_features+1, i)) for i in range(1,n_pred)]\n",
    "y = reframed[y_col]\n",
    "reframed = pd.concat([X,y], axis = 1)\n",
    "# ('var%d(t+%d)' % (j+1, i))\n",
    "\n",
    "scaler = MinMaxScaler(feature_range=(0, 1))\n",
    "scaled = scaler.fit_transform(reframed)\n",
    "# specify the number of lag hours\n",
    "\n",
    "# split into train and test sets\n",
    "#values = reframed.values\n",
    "values = scaled\n",
    "\n",
    "n_train_month = 12*8\n",
    "train = values[:n_train_month, :]\n",
    "test = values[n_train_month:, :]\n",
    "\n",
    "# split into input and outputs\n",
    "train_X, train_y = train[:, :-num_pred], train[:, -num_pred:]\n",
    "test_X, test_y = test[:, :-num_pred], test[:, -num_pred:]\n",
    "# reshape input to be 3D [samples, timesteps, features]\n",
    "\n",
    "## need to change the shape here !@!@!\n",
    "# train_X = train_X.reshape((train_X.shape[0], 1, train_X.shape[1]))\n",
    "# test_X = test_X.reshape((test_X.shape[0], 1, test_X.shape[1]))\n",
    "train_X = train_X.reshape((train_X.shape[0],train_X.shape[1],1))\n",
    "test_X = test_X.reshape((test_X.shape[0],test_X.shape[1],1))\n",
    "print(train_X.shape, train_y.shape, test_X.shape, test_y.shape)\n"
   ]
  },
  {
   "cell_type": "code",
   "execution_count": 6,
   "metadata": {},
   "outputs": [
    {
     "name": "stdout",
     "output_type": "stream",
     "text": [
      "_________________________________________________________________\n",
      "Layer (type)                 Output Shape              Param #   \n",
      "=================================================================\n",
      "conv1d_1 (Conv1D)            (None, 156, 64)           256       \n",
      "_________________________________________________________________\n",
      "conv1d_2 (Conv1D)            (None, 154, 32)           6176      \n",
      "_________________________________________________________________\n",
      "average_pooling1d_1 (Average (None, 152, 32)           0         \n",
      "_________________________________________________________________\n",
      "dropout_1 (Dropout)          (None, 152, 32)           0         \n",
      "_________________________________________________________________\n",
      "lstm_1 (LSTM)                (None, 50)                16600     \n",
      "_________________________________________________________________\n",
      "dense_1 (Dense)              (None, 1)                 51        \n",
      "=================================================================\n",
      "Total params: 23,083\n",
      "Trainable params: 23,083\n",
      "Non-trainable params: 0\n",
      "_________________________________________________________________\n"
     ]
    }
   ],
   "source": [
    "# design network\n",
    "model = Sequential()\n",
    "## note differences : here specifying batch_size not here but in \"fit\"\n",
    "#model.add(LSTM(50, input_shape=(train_X.shape[1], train_X.shape[2])))\n",
    "model.add(Conv1D(64, kernel_size=3, padding=\"same\", \n",
    "                    input_shape=(train_X.shape[1],1)))\n",
    "model.add(Conv1D(32, kernel_size=3))\n",
    "model.add(AveragePooling1D(pool_size=3, strides=1))\n",
    "#model.add(Flatten())\n",
    "model.add(Dropout(0.2))\n",
    "model.add(LSTM(50))\n",
    "model.add(Dense(train_y.shape[1]))\n",
    "model.compile(loss='mean_absolute_error', optimizer='adam')#SGD(lr=0.001, decay=1e-5))\n",
    "model.summary()"
   ]
  },
  {
   "cell_type": "code",
   "execution_count": 7,
   "metadata": {},
   "outputs": [],
   "source": [
    "history = model.fit(train_X, train_y, epochs=num_epochs, batch_size=batch_s, validation_data=(test_X, test_y), verbose=0, shuffle=False)\n"
   ]
  },
  {
   "cell_type": "code",
   "execution_count": 8,
   "metadata": {},
   "outputs": [
    {
     "data": {
      "image/png": "[encoded data removed]",
      "text/plain": [
       "<Figure size 432x288 with 1 Axes>"
      ]
     },
     "metadata": {},
     "output_type": "display_data"
    }
   ],
   "source": [
    "pyplot.plot(history.history['loss'], label='train')\n",
    "pyplot.plot(history.history['val_loss'], label='test')\n",
    "pyplot.legend()\n",
    "pyplot.show()"
   ]
  },
  {
   "cell_type": "code",
   "execution_count": 9,
   "metadata": {},
   "outputs": [
    {
     "name": "stdout",
     "output_type": "stream",
     "text": [
      "Test RMSE: 4122407.314\n",
      "Train RMSE: 2021072.884\n"
     ]
    }
   ],
   "source": [
    "\n",
    "# make a prediction\n",
    "yhat = model.predict(test_X)\n",
    "test_X = test_X.reshape((test_X.shape[0], test_X.shape[1]))\n",
    "# invert scaling for forecast\n",
    "# inv_yhat = concatenate((yhat, test_X[:, 1:]), axis=1)\n",
    "# inv_yhat = concatenate((yhat, test_X), axis=1)\n",
    "inv_yhat = concatenate((test_X,yhat), axis=1)\n",
    "\n",
    "inv_yhat = scaler.inverse_transform(inv_yhat)\n",
    "#inv_yhat = inverse_transform(inv_yhat)\n",
    "\n",
    "# inv_yhat = inv_yhat[:,:num_pred]\n",
    "inv_yhat = inv_yhat[:,-num_pred:]\n",
    "\n",
    "#inv_yhat = inv_yhat[0,:]\n",
    "\n",
    "# invert scaling for actual\n",
    "#test_y = test_y.reshape((len(test_y), 1))\n",
    "#inv_y = concatenate((test_y, test_X[:, 1:]), axis=1)\n",
    "# inv_y = concatenate((test_y, test_X), axis=1)\n",
    "inv_y = concatenate((test_X,test_y), axis=1)\n",
    "\n",
    "inv_y = scaler.inverse_transform(inv_y)\n",
    "# inv_y = inv_y[:,:num_pred]\n",
    "inv_y = inv_y[:,-num_pred:]\n",
    "\n",
    "# calculate RMSE\n",
    "rmse = sqrt(mean_squared_error(inv_y, inv_yhat))\n",
    "print('Test RMSE: %.3f' % rmse)\n",
    "\n",
    "# #pyplot.plot(inv_y[1,:])\n",
    "# #pyplot.plot(inv_yhat[1,:])\n",
    "\n",
    "# for i in range(61):\n",
    "#     pyplot.plot(inv_y[i,:])\n",
    "#     pyplot.plot(inv_yhat[i,:])\n",
    "#     pyplot.show()\n",
    "\n",
    "# for i in range(num_pred):\n",
    "#     pyplot.plot(inv_y[:,i])\n",
    "#     pyplot.plot(inv_yhat[:,i])\n",
    "#     pyplot.show()\n",
    "\n",
    "# make a prediction\n",
    "yhat_t = model.predict(train_X)\n",
    "train_X = train_X.reshape((train_X.shape[0], train_X.shape[1]))\n",
    "# invert scaling for forecast\n",
    "# inv_yhat = concatenate((yhat, test_X[:, 1:]), axis=1)\n",
    "# inv_yhat = concatenate((yhat, test_X), axis=1)\n",
    "inv_yhat_t = concatenate((train_X,yhat_t), axis=1)\n",
    "\n",
    "inv_yhat_t = scaler.inverse_transform(inv_yhat_t)\n",
    "#inv_yhat = inverse_transform(inv_yhat)\n",
    "\n",
    "# inv_yhat = inv_yhat[:,:num_pred]\n",
    "inv_yhat_t = inv_yhat_t[:,-num_pred:]\n",
    "\n",
    "#inv_yhat = inv_yhat[0,:]\n",
    "\n",
    "# invert scaling for actual\n",
    "#test_y = test_y.reshape((len(test_y), 1))\n",
    "#inv_y = concatenate((test_y, test_X[:, 1:]), axis=1)\n",
    "# inv_y = concatenate((test_y, test_X), axis=1)\n",
    "inv_y_t = concatenate((train_X,train_y), axis=1)\n",
    "\n",
    "inv_y_t = scaler.inverse_transform(inv_y_t)\n",
    "# inv_y = inv_y[:,:num_pred]\n",
    "inv_y_t = inv_y_t[:,-num_pred:]\n",
    "\n",
    "# calculate RMSE\n",
    "rmse = sqrt(mean_squared_error(inv_y_t, inv_yhat_t))\n",
    "print('Train RMSE: %.3f' % rmse)\n"
   ]
  },
  {
   "cell_type": "code",
   "execution_count": 10,
   "metadata": {},
   "outputs": [
    {
     "data": {
      "image/png": "[encoded data removed]",
      "text/plain": [
       "<Figure size 432x288 with 1 Axes>"
      ]
     },
     "metadata": {},
     "output_type": "display_data"
    },
    {
     "data": {
      "image/png": "[encoded data removed]",
      "text/plain": [
       "<Figure size 432x288 with 1 Axes>"
      ]
     },
     "metadata": {},
     "output_type": "display_data"
    }
   ],
   "source": [
    "for i in range(n_pred):\n",
    "    pyplot.plot(inv_y_t[:,i])\n",
    "    pyplot.plot(inv_yhat_t[:,i])\n",
    "    pyplot.show()\n",
    "    \n",
    "for i in range(num_pred):\n",
    "    pyplot.plot(inv_y[:,i])\n",
    "    pyplot.plot(inv_yhat[:,i])\n",
    "    pyplot.show()"
   ]
  },
  {
   "cell_type": "code",
   "execution_count": null,
   "metadata": {},
   "outputs": [],
   "source": []
  }
 ],
 "metadata": {
  "kernelspec": {
   "display_name": "Python [default]",
   "language": "python",
   "name": "python3"
  },
  "language_info": {
   "codemirror_mode": {
    "name": "ipython",
    "version": 3
   },
   "file_extension": ".py",
   "mimetype": "text/x-python",
   "name": "python",
   "nbconvert_exporter": "python",
   "pygments_lexer": "ipython3",
   "version": "3.6.5"
  }
 },
 "nbformat": 4,
 "nbformat_minor": 2
}
