{
 "cells": [
  {
   "cell_type": "code",
   "execution_count": null,
   "metadata": {},
   "outputs": [],
   "source": [
    "# For a single-input model with 2 classes (binary classification):\n",
    "\n",
    "# Generate dummy data\n",
    "data = np.random.random((1500, 100)) #make 1500 samples, each with 100 elements\n",
    "labels = np.random.randint(2, size=(1500, 1)) #randomly label each of the 1500 samples 1 or 0 (the correct classification)\n",
    "\n",
    "# Construct the model\n",
    "model = Sequential() #allows you to add layers\n",
    "model.add(Dense(32, activation='relu', input_dim=100)) #in:100 -> relu(in) -> out:32; [relu:an element-wise activation func]\n",
    "model.add(Dense(1, activation='sigmoid')) #in:32 (no need to tell it) -> sigmoid(in) -> out:1\n",
    "model.compile(optimizer='rmsprop', #function to minimize the loss; this is how weights are changed during training \n",
    "              loss='binary_crossentropy', #function to calculate the loss\n",
    "              metrics=['accuracy']) #all the metrics that you want it to keep track of / display for each epoch\n",
    "\n",
    "\n",
    "# Train the model on first 2/3 of samples, iterating on the data in batches of 32 samples\n",
    "model.fit(data[0:999], labels[0:999], epochs=10, batch_size=32) #epochs: # full run-throughs (covering all the training data)\n",
    "#batch_size: # samples considered before updating weights \n",
    "\n",
    "# Test your trained model on the remaining 1/3 of samples\n",
    "evalu=model.evaluate(data[1000:1499], labels[1000:1499])"
   ]
  },
  {
   "cell_type": "code",
   "execution_count": null,
   "metadata": {},
   "outputs": [],
   "source": [
    "# For a single-input model with 10 classes (categorical classification):\n",
    "\n",
    "# Generate dummy data\n",
    "data = np.random.random((1000, 100)) #make 1000 data points, each with 100 inputs\n",
    "labels = np.random.randint(10, size=(1000, 1)) #label each of the 1000 samples 0 thru 9 (the correct classification)\n",
    "\n",
    "# Convert labels to categorical one-hot encoding\n",
    "one_hot_labels = keras.utils.to_categorical(labels, num_classes=10) \n",
    "                #^returns a length-10 binary vector representation of labels (format used for 'categorical_crossentropy')\n",
    "\n",
    "# Construct the model\n",
    "model = Sequential()\n",
    "model.add(Dense(32, activation='relu', input_dim=100))\n",
    "model.add(Dense(10, activation='softmax')) #now the output should be 10 (not 1) to match the one_hot_labels\n",
    "model.compile(optimizer='rmsprop',\n",
    "              loss='categorical_crossentropy',\n",
    "              metrics=['accuracy'])\n",
    "\n",
    "# Train the model, iterating on the data in batches of 32 samples\n",
    "model.fit(data, one_hot_labels, epochs=10, batch_size=32)"
   ]
  },
  {
   "cell_type": "code",
   "execution_count": null,
   "metadata": {},
   "outputs": [],
   "source": []
  }
 ],
 "metadata": {
  "kernelspec": {
   "display_name": "Python 3",
   "language": "python",
   "name": "python3"
  },
  "language_info": {
   "codemirror_mode": {
    "name": "ipython",
    "version": 3
   },
   "file_extension": ".py",
   "mimetype": "text/x-python",
   "name": "python",
   "nbconvert_exporter": "python",
   "pygments_lexer": "ipython3",
   "version": "3.6.5"
  }
 },
 "nbformat": 4,
 "nbformat_minor": 2
}
