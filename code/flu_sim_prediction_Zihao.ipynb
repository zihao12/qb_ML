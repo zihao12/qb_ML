{
 "cells": [
  {
   "cell_type": "code",
   "execution_count": 1,
   "metadata": {},
   "outputs": [],
   "source": [
    "import pickle\n",
    "import pandas as pd\n",
    "import numpy as np"
   ]
  },
  {
   "cell_type": "code",
   "execution_count": 3,
   "metadata": {},
   "outputs": [
    {
     "name": "stderr",
     "output_type": "stream",
     "text": [
      "Using TensorFlow backend.\n"
     ]
    }
   ],
   "source": [
    "from keras.models import Sequential,Input,Model\n",
    "from keras.layers import Dense\n",
    "from keras.layers import Input\n",
    "from keras.layers import Dropout\n",
    "from keras.layers import Flatten\n",
    "from keras.layers import LSTM"
   ]
  },
  {
   "cell_type": "code",
   "execution_count": 2,
   "metadata": {},
   "outputs": [],
   "source": [
    "with open(\"../data/sim_data_162_1000_5.pkl\",\"rb\") as f:\n",
    "    sim_data = pickle.load(f)"
   ]
  },
  {
   "cell_type": "code",
   "execution_count": 4,
   "metadata": {},
   "outputs": [
    {
     "data": {
      "text/plain": [
       "(162000, 5)"
      ]
     },
     "execution_count": 4,
     "metadata": {},
     "output_type": "execute_result"
    }
   ],
   "source": [
    "sim_data.shape"
   ]
  },
  {
   "cell_type": "code",
   "execution_count": 5,
   "metadata": {},
   "outputs": [
    {
     "data": {
      "text/html": [
       "<div>\n",
       "<style scoped>\n",
       "    .dataframe tbody tr th:only-of-type {\n",
       "        vertical-align: middle;\n",
       "    }\n",
       "\n",
       "    .dataframe tbody tr th {\n",
       "        vertical-align: top;\n",
       "    }\n",
       "\n",
       "    .dataframe thead th {\n",
       "        text-align: right;\n",
       "    }\n",
       "</style>\n",
       "<table border=\"1\" class=\"dataframe\">\n",
       "  <thead>\n",
       "    <tr style=\"text-align: right;\">\n",
       "      <th></th>\n",
       "      <th>pre_mean</th>\n",
       "      <th>pre1</th>\n",
       "      <th>pre2</th>\n",
       "      <th>pre3</th>\n",
       "      <th>y</th>\n",
       "    </tr>\n",
       "  </thead>\n",
       "  <tbody>\n",
       "    <tr>\n",
       "      <th>12</th>\n",
       "      <td>227567.0</td>\n",
       "      <td>10103625.0</td>\n",
       "      <td>397843.0</td>\n",
       "      <td>167289.0</td>\n",
       "      <td>8259355.0</td>\n",
       "    </tr>\n",
       "    <tr>\n",
       "      <th>13</th>\n",
       "      <td>329525.0</td>\n",
       "      <td>8259355.0</td>\n",
       "      <td>10103625.0</td>\n",
       "      <td>397843.0</td>\n",
       "      <td>2742105.0</td>\n",
       "    </tr>\n",
       "    <tr>\n",
       "      <th>14</th>\n",
       "      <td>162264.0</td>\n",
       "      <td>2742105.0</td>\n",
       "      <td>8259355.0</td>\n",
       "      <td>10103625.0</td>\n",
       "      <td>2915779.0</td>\n",
       "    </tr>\n",
       "    <tr>\n",
       "      <th>15</th>\n",
       "      <td>79480.0</td>\n",
       "      <td>2915779.0</td>\n",
       "      <td>2742105.0</td>\n",
       "      <td>8259355.0</td>\n",
       "      <td>758981.0</td>\n",
       "    </tr>\n",
       "    <tr>\n",
       "      <th>16</th>\n",
       "      <td>29489.0</td>\n",
       "      <td>758981.0</td>\n",
       "      <td>2915779.0</td>\n",
       "      <td>2742105.0</td>\n",
       "      <td>143696.0</td>\n",
       "    </tr>\n",
       "  </tbody>\n",
       "</table>\n",
       "</div>"
      ],
      "text/plain": [
       "    pre_mean        pre1        pre2        pre3          y\n",
       "12  227567.0  10103625.0    397843.0    167289.0  8259355.0\n",
       "13  329525.0   8259355.0  10103625.0    397843.0  2742105.0\n",
       "14  162264.0   2742105.0   8259355.0  10103625.0  2915779.0\n",
       "15   79480.0   2915779.0   2742105.0   8259355.0   758981.0\n",
       "16   29489.0    758981.0   2915779.0   2742105.0   143696.0"
      ]
     },
     "execution_count": 5,
     "metadata": {},
     "output_type": "execute_result"
    }
   ],
   "source": [
    "sim_data.head()"
   ]
  },
  {
   "cell_type": "markdown",
   "metadata": {},
   "source": [
    "## Data:\n",
    "The data has 1000 realizations from a mechanistic model, each has 162 data points, each has monthly incidence data from `2003-1~2017-6`.The inputs are previous 3 months, and the mean for previous same months. Output is the next month. <br>\n",
    "I will use 800 for training and validation, 200 for test. <br>\n",
    "I will use a batch size of 6 so that each batch contains realization from the same realization. "
   ]
  },
  {
   "cell_type": "markdown",
   "metadata": {},
   "source": [
    "## Data Preprocessing"
   ]
  },
  {
   "cell_type": "code",
   "execution_count": 22,
   "metadata": {},
   "outputs": [
    {
     "data": {
      "text/plain": [
       "array([[ 77607],\n",
       "       [113405]])"
      ]
     },
     "execution_count": 22,
     "metadata": {},
     "output_type": "execute_result"
    }
   ],
   "source": [
    "np.argwhere(np.isnan(sim_data[\"pre_mean\"]))"
   ]
  },
  {
   "cell_type": "markdown",
   "metadata": {},
   "source": [
    "### reason\n",
    "Only one previous month, which happens to be 0. Maybe better to take it out in the future. "
   ]
  },
  {
   "cell_type": "code",
   "execution_count": 40,
   "metadata": {},
   "outputs": [],
   "source": [
    "sim_data = sim_data.fillna(value=0)"
   ]
  },
  {
   "cell_type": "code",
   "execution_count": 41,
   "metadata": {},
   "outputs": [],
   "source": [
    "from sklearn.preprocessing import MinMaxScaler\n",
    "scaler = MinMaxScaler(feature_range=(0, 1))\n",
    "sim_data_scaled = scaler.fit_transform(sim_data)"
   ]
  },
  {
   "cell_type": "code",
   "execution_count": 42,
   "metadata": {},
   "outputs": [
    {
     "data": {
      "text/plain": [
       "numpy.ndarray"
      ]
     },
     "execution_count": 42,
     "metadata": {},
     "output_type": "execute_result"
    }
   ],
   "source": [
    "type(sim_data_scaled)"
   ]
  },
  {
   "cell_type": "code",
   "execution_count": 67,
   "metadata": {},
   "outputs": [
    {
     "name": "stdout",
     "output_type": "stream",
     "text": [
      "(129600, 4) (129600, 1) (32400, 4) (32400, 1)\n"
     ]
    }
   ],
   "source": [
    "train_X, train_y = sim_data_scaled[:129600,:-1], sim_data_scaled[:129600,:1]\n",
    "test_X, test_y = sim_data_scaled[129600:,:-1], sim_data_scaled[129600:,:1]\n",
    "print(train_X.shape, train_y.shape, test_X.shape, test_y.shape)"
   ]
  },
  {
   "cell_type": "code",
   "execution_count": 68,
   "metadata": {},
   "outputs": [
    {
     "name": "stdout",
     "output_type": "stream",
     "text": [
      "(129600, 1, 4) (32400, 1, 4)\n"
     ]
    }
   ],
   "source": [
    "train_X, test_X = train_X.reshape(train_X.shape[0],1,train_X.shape[1]), test_X.reshape(test_X.shape[0],1,test_X.shape[1])\n",
    "print(train_X.shape, test_X.shape)"
   ]
  },
  {
   "cell_type": "code",
   "execution_count": 78,
   "metadata": {},
   "outputs": [
    {
     "name": "stdout",
     "output_type": "stream",
     "text": [
      "_________________________________________________________________\n",
      "Layer (type)                 Output Shape              Param #   \n",
      "=================================================================\n",
      "lstm_13 (LSTM)               (None, 4)                 144       \n",
      "_________________________________________________________________\n",
      "dense_17 (Dense)             (None, 10)                50        \n",
      "_________________________________________________________________\n",
      "dense_18 (Dense)             (None, 1)                 11        \n",
      "=================================================================\n",
      "Total params: 205\n",
      "Trainable params: 205\n",
      "Non-trainable params: 0\n",
      "_________________________________________________________________\n"
     ]
    }
   ],
   "source": [
    "neurons = 4\n",
    "batch_s = 1\n",
    "model = Sequential()\n",
    "model.add(LSTM(neurons,input_shape = (train_X.shape[1], train_X.shape[2])))\n",
    "model.add(Dense(10))\n",
    "model.add(Dense(1))\n",
    "model.compile(loss=\"mean_squared_error\", optimizer = \"adam\")\n",
    "model.summary()"
   ]
  },
  {
   "cell_type": "code",
   "execution_count": 79,
   "metadata": {},
   "outputs": [
    {
     "data": {
      "text/plain": [
       "(129600, 1, 4)"
      ]
     },
     "execution_count": 79,
     "metadata": {},
     "output_type": "execute_result"
    }
   ],
   "source": [
    "train_X.shape"
   ]
  },
  {
   "cell_type": "code",
   "execution_count": 80,
   "metadata": {},
   "outputs": [
    {
     "name": "stdout",
     "output_type": "stream",
     "text": [
      "Epoch 1/20\n",
      "129600/129600 [==============================] - 2s 15us/step - loss: 3.5301e-04\n",
      "Epoch 2/20\n",
      "129600/129600 [==============================] - 1s 10us/step - loss: 6.2642e-07\n",
      "Epoch 3/20\n",
      "129600/129600 [==============================] - 1s 10us/step - loss: 3.2628e-07\n",
      "Epoch 4/20\n",
      "129600/129600 [==============================] - 1s 10us/step - loss: 1.8701e-07\n",
      "Epoch 5/20\n",
      "129600/129600 [==============================] - 1s 10us/step - loss: 1.6605e-07\n",
      "Epoch 6/20\n",
      "129600/129600 [==============================] - 1s 10us/step - loss: 1.8085e-07\n",
      "Epoch 7/20\n",
      "129600/129600 [==============================] - 1s 10us/step - loss: 2.0243e-07\n",
      "Epoch 8/20\n",
      "129600/129600 [==============================] - 1s 10us/step - loss: 2.0369e-07\n",
      "Epoch 9/20\n",
      "129600/129600 [==============================] - 1s 10us/step - loss: 2.1885e-07\n",
      "Epoch 10/20\n",
      "129600/129600 [==============================] - 1s 10us/step - loss: 1.8930e-07\n",
      "Epoch 11/20\n",
      "129600/129600 [==============================] - 1s 10us/step - loss: 1.9762e-07\n",
      "Epoch 12/20\n",
      "129600/129600 [==============================] - 1s 10us/step - loss: 2.2022e-07\n",
      "Epoch 13/20\n",
      "129600/129600 [==============================] - 1s 10us/step - loss: 2.2452e-07\n",
      "Epoch 14/20\n",
      "129600/129600 [==============================] - 1s 10us/step - loss: 1.8817e-07\n",
      "Epoch 15/20\n",
      "129600/129600 [==============================] - 1s 10us/step - loss: 1.7088e-07\n",
      "Epoch 16/20\n",
      "129600/129600 [==============================] - 1s 10us/step - loss: 1.7789e-07\n",
      "Epoch 17/20\n",
      "129600/129600 [==============================] - 1s 10us/step - loss: 1.8758e-07\n",
      "Epoch 18/20\n",
      "129600/129600 [==============================] - 1s 10us/step - loss: 1.6844e-07\n",
      "Epoch 19/20\n",
      "129600/129600 [==============================] - 1s 10us/step - loss: 1.6181e-07\n",
      "Epoch 20/20\n",
      "129600/129600 [==============================] - 1s 10us/step - loss: 1.9317e-07\n"
     ]
    },
    {
     "data": {
      "text/plain": [
       "<keras.callbacks.History at 0x7f000c4faa58>"
      ]
     },
     "execution_count": 80,
     "metadata": {},
     "output_type": "execute_result"
    }
   ],
   "source": [
    "model.fit(train_X,train_y,epochs=20, batch_size=162)"
   ]
  },
  {
   "cell_type": "code",
   "execution_count": 54,
   "metadata": {},
   "outputs": [
    {
     "data": {
      "text/plain": [
       "array([[[0.01162288],\n",
       "        [0.19476609],\n",
       "        [0.00766916],\n",
       "        [0.00322481]],\n",
       "\n",
       "       [[0.01683034],\n",
       "        [0.15921437],\n",
       "        [0.19476609],\n",
       "        [0.00766916]],\n",
       "\n",
       "       [[0.00828756],\n",
       "        [0.05285915],\n",
       "        [0.15921437],\n",
       "        [0.19476609]],\n",
       "\n",
       "       [[0.0040594 ],\n",
       "        [0.05620704],\n",
       "        [0.05285915],\n",
       "        [0.15921437]],\n",
       "\n",
       "       [[0.00150614],\n",
       "        [0.01463076],\n",
       "        [0.05620704],\n",
       "        [0.05285915]],\n",
       "\n",
       "       [[0.00270843],\n",
       "        [0.00277001],\n",
       "        [0.01463076],\n",
       "        [0.05620704]],\n",
       "\n",
       "       [[0.00212725],\n",
       "        [0.00468759],\n",
       "        [0.00277001],\n",
       "        [0.01463076]],\n",
       "\n",
       "       [[0.00838705],\n",
       "        [0.00311874],\n",
       "        [0.00468759],\n",
       "        [0.00277001]],\n",
       "\n",
       "       [[0.01092127],\n",
       "        [0.00183198],\n",
       "        [0.00311874],\n",
       "        [0.00468759]],\n",
       "\n",
       "       [[0.00854421],\n",
       "        [0.00138751],\n",
       "        [0.00183198],\n",
       "        [0.00311874]],\n",
       "\n",
       "       [[0.02031965],\n",
       "        [0.0010385 ],\n",
       "        [0.00138751],\n",
       "        [0.00183198]],\n",
       "\n",
       "       [[0.51603797],\n",
       "        [0.00573841],\n",
       "        [0.0010385 ],\n",
       "        [0.00138751]],\n",
       "\n",
       "       [[0.2167328 ],\n",
       "        [0.01757874],\n",
       "        [0.00573841],\n",
       "        [0.0010385 ]],\n",
       "\n",
       "       [[0.07844104],\n",
       "        [0.0456226 ],\n",
       "        [0.01757874],\n",
       "        [0.00573841]],\n",
       "\n",
       "       [[0.07860481],\n",
       "        [0.09239592],\n",
       "        [0.0456226 ],\n",
       "        [0.01757874]],\n",
       "\n",
       "       [[0.021412  ],\n",
       "        [0.05670525],\n",
       "        [0.09239592],\n",
       "        [0.0456226 ]],\n",
       "\n",
       "       [[0.00442267],\n",
       "        [0.01407474],\n",
       "        [0.05670525],\n",
       "        [0.09239592]],\n",
       "\n",
       "       [[0.00756416],\n",
       "        [0.00156865],\n",
       "        [0.01407474],\n",
       "        [0.05670525]],\n",
       "\n",
       "       [[0.00519523],\n",
       "        [0.00161029],\n",
       "        [0.00156865],\n",
       "        [0.01407474]],\n",
       "\n",
       "       [[0.00662046],\n",
       "        [0.00257643],\n",
       "        [0.00161029],\n",
       "        [0.00156865]]])"
      ]
     },
     "execution_count": 54,
     "metadata": {},
     "output_type": "execute_result"
    }
   ],
   "source": [
    "train_X[:20,:]"
   ]
  },
  {
   "cell_type": "code",
   "execution_count": null,
   "metadata": {},
   "outputs": [],
   "source": []
  }
 ],
 "metadata": {
  "kernelspec": {
   "display_name": "Python [conda env:DL_GPU_cuda_9.0]",
   "language": "python",
   "name": "conda-env-DL_GPU_cuda_9.0-py"
  },
  "language_info": {
   "codemirror_mode": {
    "name": "ipython",
    "version": 3
   },
   "file_extension": ".py",
   "mimetype": "text/x-python",
   "name": "python",
   "nbconvert_exporter": "python",
   "pygments_lexer": "ipython3",
   "version": "3.6.5"
  }
 },
 "nbformat": 4,
 "nbformat_minor": 2
}
